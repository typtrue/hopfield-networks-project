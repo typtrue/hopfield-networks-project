{
 "cells": [
  {
   "cell_type": "code",
   "execution_count": 1,
   "metadata": {},
   "outputs": [],
   "source": [
    "# imports\n",
    "\n",
    "import matplotlib.pyplot as plt\n",
    "import numpy as np\n",
    "from PIL import Image\n",
    "from hfn import *\n",
    "import os"
   ]
  },
  {
   "cell_type": "code",
   "execution_count": 2,
   "metadata": {},
   "outputs": [
    {
     "name": "stdout",
     "output_type": "stream",
     "text": [
      "(125, 125)\n"
     ]
    }
   ],
   "source": [
    "images = []\n",
    "for filename in os.listdir(\"sample/colour/clean\"):\n",
    "    images.append(Image.open(f\"sample/colour/clean/{filename}\").convert('HSV'))\n",
    "hopfield = HopfieldComplex(images[0].size)\n",
    "\n",
    "for i in images:\n",
    "    k = np.array(i)\n",
    "    for index1, j1 in enumerate(k):\n",
    "        for index2, j2 in enumerate(j1):\n",
    "            k[index1,index2] = j2[0]*256**2+j2[1]*256*1+j2[2]\n",
    "    bits = 2*np.pi*(np.array(i).flatten() / 256**3) - np.pi\n",
    "    states = np.exp(1j*bits)\n",
    "    hopfield.train_network(states)"
   ]
  }
 ],
 "metadata": {
  "kernelspec": {
   "display_name": "Python 3",
   "language": "python",
   "name": "python3"
  },
  "language_info": {
   "codemirror_mode": {
    "name": "ipython",
    "version": 3
   },
   "file_extension": ".py",
   "mimetype": "text/x-python",
   "name": "python",
   "nbconvert_exporter": "python",
   "pygments_lexer": "ipython3",
   "version": "3.11.3"
  }
 },
 "nbformat": 4,
 "nbformat_minor": 2
}
